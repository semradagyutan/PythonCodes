{
 "cells": [
  {
   "cell_type": "markdown",
   "metadata": {},
   "source": [
    "# ------Recursive Function------"
   ]
  },
  {
   "cell_type": "code",
   "execution_count": 118,
   "metadata": {},
   "outputs": [
    {
     "name": "stdout",
     "output_type": "stream",
     "text": [
      "Please enter a number:5\n",
      "num:  2\n",
      "result: 2\n",
      "num:  3\n",
      "result: 6\n",
      "num:  4\n",
      "result: 24\n",
      "num:  5\n",
      "result: 120\n"
     ]
    },
    {
     "data": {
      "text/plain": [
       "120"
      ]
     },
     "execution_count": 118,
     "metadata": {},
     "output_type": "execute_result"
    }
   ],
   "source": [
    "def fact(num):\n",
    "    if num == 1: \n",
    "        return 1\n",
    "    elif num==0:\n",
    "        return 0 \n",
    "    else: \n",
    "        result = num*fact(num-1)\n",
    "        print(\"num: \",num)\n",
    "        print(\"result:\",result)\n",
    "        return result\n",
    "number = int(input(\"Please enter a number:\"))\n",
    "fact(number)"
   ]
  },
  {
   "cell_type": "code",
   "execution_count": 124,
   "metadata": {},
   "outputs": [
    {
     "name": "stdout",
     "output_type": "stream",
     "text": [
      "Max fibonacci:15\n",
      "[0, 1, 1, 2, 3, 5, 8, 13, 21]\n"
     ]
    }
   ],
   "source": [
    "def fibList(number):\n",
    " \n",
    "    x=1\n",
    "    b=0\n",
    "    fibonacciList = [0]\n",
    "    while b < number:\n",
    "        value= x+b\n",
    "        x = b\n",
    "        b = value\n",
    "        fibonacciList.append(b)\n",
    "    print(fibonacciList)\n",
    "num = int(input(\"Max fibonacci:\"))\n",
    "\n",
    "fibList(num)\n"
   ]
  },
  {
   "cell_type": "code",
   "execution_count": 121,
   "metadata": {},
   "outputs": [
    {
     "name": "stdout",
     "output_type": "stream",
     "text": [
      "Please enter a index number: 9\n"
     ]
    },
    {
     "data": {
      "text/plain": [
       "21"
      ]
     },
     "execution_count": 121,
     "metadata": {},
     "output_type": "execute_result"
    }
   ],
   "source": [
    "def fibonacciİndex(index):\n",
    "    if index == 1:\n",
    "        return 0\n",
    "    if index ==2:\n",
    "        return 1\n",
    "    else:\n",
    "        result = (fibonacciİndex(index - 1) + fibonacciİndex(index - 2))\n",
    "        return result\n",
    "x = int(input(\"Please enter a index number: \"))\n",
    "fibonacciİndex(x)\n"
   ]
  },
  {
   "cell_type": "code",
   "execution_count": 117,
   "metadata": {},
   "outputs": [
    {
     "name": "stdout",
     "output_type": "stream",
     "text": [
      "Max number in list:  4\n",
      "Min number in list:  1997\n"
     ]
    }
   ],
   "source": [
    "lst_ = [5,8,1997,20,30,2,10,4,25]\n",
    "\n",
    "#Find max number in list\n",
    "def maxNum(lst):\n",
    "    if len(lst)==1:\n",
    "        return lst[0]\n",
    "    else:\n",
    "        if lst[0]>lst[1]:\n",
    "            return maxNum([lst[0]]+lst[2:])\n",
    "        else:\n",
    "            return maxNum([lst[1]]+lst[2:])\n",
    "\n",
    "#Find min number in list        \n",
    "\n",
    "def miNum(lst):\n",
    "    if len(lst) == 1:\n",
    "        return lst[0]\n",
    "    else: \n",
    "        if list[0]<lst[1]:\n",
    "            return miNum([lst[0]]+lst[2:])\n",
    "        else: \n",
    "            return miNum([lst[1]] + lst[2:])\n",
    "        \n",
    "\n",
    "miNum(lst_)\n",
    "maxNum(lst_)\n",
    "\n",
    "print(\"Max number in list: \",miNum(lst_))\n",
    "print(\"Min number in list: \",maxNum(lst_))"
   ]
  }
 ],
 "metadata": {
  "kernelspec": {
   "display_name": "Python 3",
   "language": "python",
   "name": "python3"
  },
  "language_info": {
   "codemirror_mode": {
    "name": "ipython",
    "version": 3
   },
   "file_extension": ".py",
   "mimetype": "text/x-python",
   "name": "python",
   "nbconvert_exporter": "python",
   "pygments_lexer": "ipython3",
   "version": "3.8.3"
  }
 },
 "nbformat": 4,
 "nbformat_minor": 4
}
